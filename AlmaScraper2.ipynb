{
 "cells": [
  {
   "cell_type": "code",
   "execution_count": 192,
   "id": "4afbe63b",
   "metadata": {},
   "outputs": [],
   "source": [
    "import pandas as pd\n",
    "import time\n",
    "from selenium import webdriver\n",
    "from selenium.webdriver.chrome.service import Service\n",
    "from selenium.webdriver.common.keys import Keys\n",
    "from selenium.webdriver.common.by import By\n",
    "from selenium.webdriver.chrome.options import Options\n",
    "from datetime import datetime\n",
    "chrome_options = Options()\n",
    "chrome_options.add_experimental_option(\"detach\", True)\n",
    "\n",
    "almaURL = 'https://unl.alma.exlibrisgroup.com/mng/login?auth=SAML'\n",
    "webdriverURL = '/Users/danstara/Downloads/chromedriver'\n",
    "inputDataPath = '/Users/danstara/Downloads/NUIDsToDo.csv'\n",
    "\n",
    "#auth information\n",
    "authUsername = '_'\n",
    "authPassword = '_'\n",
    "\n",
    "#html IDs\n",
    "expirationDateTextId = 'SPAN_SELENIUM_ID_userList_ROW_0_COL_expireDateDummy'\n",
    "almaSearchInputId = 'ALMA_MENU_TOP_NAV_Search_Text'"
   ]
  },
  {
   "cell_type": "code",
   "execution_count": 194,
   "id": "b3cc12f5",
   "metadata": {},
   "outputs": [],
   "source": [
    "def check_alma_for_user(userID):\n",
    "    searchElement = browser.find_element(\"id\", almaSearchInputId) #it rerenders, so finding it each time reduces bugs\n",
    "    searchElement.clear()\n",
    "    searchElement = browser.find_element(\"id\", almaSearchInputId)\n",
    "    searchElement.send_keys(userID)\n",
    "    searchElement = browser.find_element(\"id\", almaSearchInputId)\n",
    "    searchElement.send_keys(Keys.ENTER)\n",
    "    time.sleep(3)\n",
    "    searchElement = browser.find_element(\"id\", almaSearchInputId)\n",
    "    searchElement.clear()\n",
    "    \n",
    "    if \"No records were found.\" in browser.page_source:\n",
    "        return False\n",
    "    else:\n",
    "        return True\n",
    "    \n",
    "\n",
    "def navigateToPage():\n",
    "    browser.get(almaURL)\n",
    "    time.sleep(3)\n",
    "    usernameElement = browser.find_element(\"id\", \"username\")\n",
    "    usernameElement.send_keys(authUsername)\n",
    "    passwordElement = browser.find_element(\"id\", \"password\")\n",
    "    passwordElement.send_keys(authPassword)\n",
    "    usernameElement.send_keys(Keys.ENTER)\n",
    "    time.sleep(24)\n",
    "    \n",
    "\n",
    "def dateIsBeforeToday(dateString):\n",
    "    past = datetime.strptime(dateString, \"%m/%d/%Y\")\n",
    "    present = datetime.now()\n",
    "    return past.date() < present.date()\n"
   ]
  },
  {
   "cell_type": "code",
   "execution_count": 1,
   "id": "53e3b25e",
   "metadata": {},
   "outputs": [
    {
     "name": "stderr",
     "output_type": "stream",
     "text": [
      "\n",
      "KeyboardInterrupt\n",
      "\n"
     ]
    }
   ],
   "source": [
    "s=Service(webdriverURL)\n",
    "browser = webdriver.Chrome(service=s)\n",
    "navigateToPage()\n",
    "        \n",
    "inputNUIDs = pd.read_csv(inputDataPath)\n",
    "\n",
    "generated = []\n",
    "for num in inputNUIDs[\"NUID\"]:\n",
    "    if check_alma_for_user(num):\n",
    "        expiredDateElementText = browser.find_element(\"id\", expirationDateTextId).text\n",
    "        if(dateIsBeforeToday(expiredDateElementText)):\n",
    "            generated.append(\"EXPIRED\")\n",
    "        else:\n",
    "            generated.append(\"YES\")\n",
    "        \n",
    "    else:\n",
    "        generated.append(\"NO\")\n",
    "    \n",
    "# inputNUIDs[\"Generated\"] = generated\n",
    "print(\"done\")\n",
    "print(generated)"
   ]
  },
  {
   "cell_type": "code",
   "execution_count": 198,
   "id": "6d1b26a7",
   "metadata": {},
   "outputs": [],
   "source": [
    "# output the data\n",
    "shortInputNUIDs = inputNUIDs.head(len(generated))\n",
    "shortInputNUIDs[\"Generated\"] = generated\n",
    "shortInputNUIDs"
   ]
  },
  {
   "cell_type": "code",
   "execution_count": 220,
   "id": "5551879c",
   "metadata": {},
   "outputs": [],
   "source": [
    "shortInputNUIDs.to_csv('/Users/danstara/Downloads/output4.csv')"
   ]
  }
 ],
 "metadata": {
  "kernelspec": {
   "display_name": "Python 3 (ipykernel)",
   "language": "python",
   "name": "python3"
  },
  "language_info": {
   "codemirror_mode": {
    "name": "ipython",
    "version": 3
   },
   "file_extension": ".py",
   "mimetype": "text/x-python",
   "name": "python",
   "nbconvert_exporter": "python",
   "pygments_lexer": "ipython3",
   "version": "3.9.10"
  }
 },
 "nbformat": 4,
 "nbformat_minor": 5
}
